{
  "nbformat": 4,
  "nbformat_minor": 0,
  "metadata": {
    "colab": {
      "provenance": []
    },
    "kernelspec": {
      "name": "python3",
      "display_name": "Python 3"
    },
    "language_info": {
      "name": "python"
    }
  },
  "cells": [
    {
      "cell_type": "markdown",
      "source": [
        "#Outlier Handling:\n",
        "This notebook will apply various outlier detection and removal techniques with the goal of improving classification model performance. Outliers can distort data distributions and negatively impact model accuracy, especially in high-dimensional biological datasets like miRNA expression.\n",
        "\n",
        "The following methods will be used to identify and process outliers:\n",
        "\n",
        "-Isolation Forest\n",
        "\n",
        "-DBSCAN (Density-Based Spatial Clustering)\n",
        "\n",
        "-Statistical Capping using the IQR × 1.5 rule\n",
        "\n",
        "-One-Class Support Vector Machines (OCSVM)\n",
        "\n",
        "-Manual Capping and Transformation using winsorize"
      ],
      "metadata": {
        "id": "mVrOu4zaU1dh"
      }
    },
    {
      "cell_type": "code",
      "source": [
        "# Reading miRNA data frame with new features\n",
        "df_mir_new = pd.read_csv('df_mir_new.csv', index_col='File_ID')\n",
        "df_mir_new.head()"
      ],
      "metadata": {
        "id": "bFrUK-BhUzlD"
      },
      "execution_count": null,
      "outputs": []
    },
    {
      "cell_type": "code",
      "source": [
        "# The first strategy will be capping outliers. The variables distributions will be sliced between an upper limit (2% highest) and a lower limit (2% lowest)\n",
        "columns = df_mir_new.columns\n",
        "outlier_capping_columns = columns[:21]\n",
        "for column in outlier_capping_columns:\n",
        "  df_mir_new[column] = winsorize(df_mir_new[column], limits=[0.02, 0.02])"
      ],
      "metadata": {
        "id": "5LQ09WuRVg46"
      },
      "execution_count": null,
      "outputs": []
    },
    {
      "cell_type": "code",
      "source": [
        "df_mir_new.to_csv('df_mir_new_capped.csv')\n",
        "from google.colab import files\n",
        "# Download the new miRNA df capped df\n",
        "files.download('df_mir_new_capped.csv')"
      ],
      "metadata": {
        "id": "DFKstHvhVyeX"
      },
      "execution_count": null,
      "outputs": []
    },
    {
      "cell_type": "code",
      "source": [
        "# Reading miRNA data frame with new features\n",
        "df_mir_new = pd.read_csv('df_mir_new.csv', index_col='File_ID')\n",
        "df_mir_new.head()"
      ],
      "metadata": {
        "id": "gVlbIbXhbYqE"
      },
      "execution_count": null,
      "outputs": []
    },
    {
      "cell_type": "code",
      "source": [
        "# The second strategy involves using the IsolationForest machine learning model to detect isolated extreme values\n",
        "df_mir_new_columns = df_mir_new.columns\n",
        "outlier_detection_columns = df_mir_new_columns[:21]\n",
        "iso = IsolationForest(contamination=0.1, random_state=42)\n",
        "df_mir_new['outlier'] = iso.fit_predict(df_mir_new[outlier_detection_columns])\n",
        "# Filter the rows with isolated extreme values\n",
        "df_mir_new_iso = df_mir_new[df_mir_new['outlier'] == 1].drop(columns='outlier')\n",
        "df_mir_new_iso.shape"
      ],
      "metadata": {
        "id": "gCFguisyWWX6"
      },
      "execution_count": null,
      "outputs": []
    },
    {
      "cell_type": "code",
      "source": [
        "df_mir_new_iso.to_csv('df_mir_new_iso.csv')\n",
        "from google.colab import files\n",
        "# Download the new miRNA df without extreme values\n",
        "files.download('df_mir_new_iso.csv')"
      ],
      "metadata": {
        "id": "ftisqjTtY22b"
      },
      "execution_count": null,
      "outputs": []
    },
    {
      "cell_type": "code",
      "source": [
        "# Reading miRNA data frame with new features\n",
        "df_mir_new = pd.read_csv('df_mir_new.csv', index_col='File_ID')\n",
        "df_mir_new.head()"
      ],
      "metadata": {
        "id": "D_5Iydndbogi"
      },
      "execution_count": null,
      "outputs": []
    },
    {
      "cell_type": "code",
      "source": [
        "# The third strategy requires using an unsupervised machine learning density-base model: DBSCAN\n",
        "scaler = StandardScaler()\n",
        "scaled = scaler.fit_transform(df_mir_new[outlier_detection_columns]) # First we standardize the features to search for outliers\n",
        "# Build the clustering model\n",
        "db = DBSCAN(eps=1.5, min_samples=3)\n",
        "df_mir_new['outlier'] = db.fit_predict(scaled)\n",
        "# Filter the rows without outliers\n",
        "df_mir_new_dbscan = df_mir_new[df_mir_new['outlier'] != -1].drop(columns='outlier')\n",
        "df_mir_new_dbscan.shape"
      ],
      "metadata": {
        "id": "PGF-cWD9Y8PO"
      },
      "execution_count": null,
      "outputs": []
    },
    {
      "cell_type": "code",
      "source": [
        "df_mir_new_dbscan.to_csv('df_mir_new_dbscan.csv')\n",
        "from google.colab import files\n",
        "# Download the new miRNA df without outliers\n",
        "files.download('df_mir_new_dbscan.csv')"
      ],
      "metadata": {
        "id": "NOWaX45ia8Xr"
      },
      "execution_count": null,
      "outputs": []
    },
    {
      "cell_type": "code",
      "source": [
        "# Reading miRNA data frame with new features\n",
        "df_mir_new = pd.read_csv('df_mir_new.csv', index_col='File_ID')\n",
        "df_mir_new.head()"
      ],
      "metadata": {
        "id": "o5t0ho8RbFpD"
      },
      "execution_count": null,
      "outputs": []
    },
    {
      "cell_type": "code",
      "source": [
        "# The fourth strategy involves using the one-class support vector machine\n",
        "scaler = StandardScaler()\n",
        "scaled = scaler.fit_transform(df_mir_new[outlier_detection_columns]) # First we standardize the features to search for outliers\n",
        "# Build the classifier\n",
        "ocsvm = OneClassSVM(kernel='rbf', gamma='auto', nu=0.05)\n",
        "ocsvm.fit(scaled)\n",
        "labels = ocsvm.predict(scaled)\n",
        "# Filter the rows without outliers\n",
        "df_mir_new_ocsvm = df_mir_new[labels == 1]\n",
        "df_mir_new_ocsvm.drop('outlier', inplace=True, axis=1)"
      ],
      "metadata": {
        "id": "-rSycTK-buii"
      },
      "execution_count": null,
      "outputs": []
    },
    {
      "cell_type": "code",
      "source": [
        "df_mir_new_dbscan.to_csv('df_mir_new_dbscan.csv')\n",
        "from google.colab import files\n",
        "# Download the new miRNA df without outliers\n",
        "files.download('df_mir_new_dbscan.csv')"
      ],
      "metadata": {
        "id": "Ay5GmhyicToF"
      },
      "execution_count": null,
      "outputs": []
    },
    {
      "cell_type": "code",
      "source": [
        "# Reading miRNA data frame with new features\n",
        "df_mir_new = pd.read_csv('df_mir_new.csv', index_col='File_ID')\n",
        "df_mir_new.head()"
      ],
      "metadata": {
        "id": "_M8HzxHxdMwu"
      },
      "execution_count": null,
      "outputs": []
    },
    {
      "cell_type": "code",
      "source": [
        "# The last strategy involves using the upper extreme of the feature's distribution to detect the rows having extreme values\n",
        "columns = df_mir_new.columns\n",
        "outlier_wrangling_columns = columns[:21]\n",
        "for column in outlier_wrangling_columns: # Build a loop to extract distribution data of each feature\n",
        "  column_statistics = df_mir_new.describe()[column]\n",
        "  Q3 = column_statistics.loc['75%']\n",
        "  Q1 = column_statistics.loc['25%']\n",
        "  inter_quartile_range = Q3 - Q1\n",
        "  upper_extreme = Q3 + inter_quartile_range*1.5 # Calculate the upper extreme value\n",
        "  rows_to_drop = df_mir_new[df_mir_new[column] > upper_extreme].index\n",
        "  df_mir_new.drop(rows_to_drop, axis=0, inplace=True) # Drop the rows that have values above the upper extreme\n",
        "  print(df_mir_new.shape)"
      ],
      "metadata": {
        "id": "e78wbkNQdIkC"
      },
      "execution_count": null,
      "outputs": []
    },
    {
      "cell_type": "code",
      "source": [
        "df_mir_new.to_csv('df_mir_new_statistical.csv')\n",
        "from google.colab import files\n",
        "# Download the miRNA df without outliers}\n",
        "files.download('df_mir_new_statistical.csv')"
      ],
      "metadata": {
        "id": "MenYcO2dee97"
      },
      "execution_count": null,
      "outputs": []
    }
  ]
}